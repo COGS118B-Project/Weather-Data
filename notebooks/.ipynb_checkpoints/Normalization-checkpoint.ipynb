{
 "cells": [
  {
   "cell_type": "code",
   "execution_count": 1,
   "metadata": {
    "collapsed": true
   },
   "outputs": [],
   "source": [
    "import pandas as pd"
   ]
  },
  {
   "cell_type": "code",
   "execution_count": 7,
   "metadata": {
    "collapsed": true
   },
   "outputs": [],
   "source": [
    "def preprocess(filename):\n",
    "    \"\"\"Preprocess NCDC weather data\"\"\"\n",
    "    \n",
    "    fields = ['STN', 'WBAN', 'YEARMODA', 'TEMP', 'TEMP_count', 'DEWP', 'DEWP_count', 'SLP', 'SLP_count', 'STP', 'STP_count', 'VISIB', 'VISIB_count', 'WDSP', 'WDSP_count', 'MXSPD', 'GUST', 'MAX', 'MIN', 'PRCP', 'SNDP', 'FRSHTT']\n",
    "    \n",
    "    df = pd.read_csv(filename, \n",
    "                  sep=r'\\s+', \n",
    "                  names=fields, \n",
    "                  header=0, \n",
    "                  parse_dates=['YEARMODA'], \n",
    "                  na_values={'TEMP':[9999.9], \n",
    "                             'DEWP':[9999.9], \n",
    "                             'SLP':[9999.9], \n",
    "                             'STP':[9999.9], \n",
    "                             'VISIB':[999.9], \n",
    "                             'WDSP':[999.9], \n",
    "                             'MXSPD':[999.9], \n",
    "                             'GUST':[999.9], \n",
    "                             'MAX':['9999.9'], # doesn't matter whether float or str\n",
    "                             'MIN':['9999.9'], \n",
    "                             'PRCP':['99.99'],\n",
    "                             'SNDP':[999.9]}\n",
    "                 )\n",
    "    \n",
    "    flagged = df.copy()\n",
    "\n",
    "    def strip_flag(x):\n",
    "        if type(x) is float:\n",
    "            return x\n",
    "        elif type(x) is str:\n",
    "            return float(x[:-1]) if '*' in x else float(x)\n",
    "    def extract_flag(x):\n",
    "        if type(x) is float:\n",
    "            return False\n",
    "        elif type(x) is str:\n",
    "            return True if '*' in x else False\n",
    "    \n",
    "    flagged['MAX'] = df['MAX'].map(strip_flag)\n",
    "    flagged['MAX_flag'] = df['MAX'].map(extract_flag)\n",
    "    flagged['MIN'] = df['MIN'].map(strip_flag)\n",
    "    flagged['MIN_flag'] = df['MIN'].map(extract_flag)\n",
    "    \n",
    "    flagged['PRCP'] = df['PRCP'].map(lambda x: float(x[:-1]) if type(x) is str else x)\n",
    "    PRCP_flag = df['PRCP'].map(lambda x: x[-1] if type(x) is str else x)\n",
    "    PRCP_dummies = pd.get_dummies(PRCP_flag).add_prefix('PRCP_')\n",
    "    preprocessed = flagged.join(PRCP_dummies)\n",
    "    \n",
    "    return preprocessed"
   ]
  },
  {
   "cell_type": "code",
   "execution_count": 9,
   "metadata": {
    "collapsed": false
   },
   "outputs": [],
   "source": [
    "dfs = []\n",
    "dfs.append(preprocess('../data/raw/CA/CA_1981-1985.txt'))\n",
    "dfs.append(preprocess('../data/raw/CA/CA_1985-1989.txt'))\n",
    "dfs.append(pd.read_csv('../data/raw/CA/CA_1989-1993.txt'))\n",
    "dfs.append(pd.read_csv('../data/raw/CA/CA_1993-1997.txt'))\n",
    "dfs.append(pd.read_csv('../data/raw/CA/CA_1997-2001.txt'))\n",
    "dfs.append(pd.read_csv('../data/raw/CA/CA_2001-2005.txt'))\n",
    "dfs.append(pd.read_csv('../data/raw/CA/CA_2005-2009.txt'))\n",
    "dfs.append(pd.read_csv('../data/raw/CA/CA_2009-2015.txt'))"
   ]
  },
  {
   "cell_type": "code",
   "execution_count": null,
   "metadata": {
    "collapsed": true
   },
   "outputs": [],
   "source": []
  }
 ],
 "metadata": {
  "kernelspec": {
   "display_name": "Python 3",
   "language": "python",
   "name": "python3"
  },
  "language_info": {
   "codemirror_mode": {
    "name": "ipython",
    "version": 3
   },
   "file_extension": ".py",
   "mimetype": "text/x-python",
   "name": "python",
   "nbconvert_exporter": "python",
   "pygments_lexer": "ipython3",
   "version": "3.4.3"
  }
 },
 "nbformat": 4,
 "nbformat_minor": 0
}
