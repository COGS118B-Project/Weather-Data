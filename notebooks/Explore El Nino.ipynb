{
 "cells": [
  {
   "cell_type": "code",
   "execution_count": 1,
   "metadata": {
    "collapsed": true
   },
   "outputs": [],
   "source": [
    "import pandas as pd"
   ]
  },
  {
   "cell_type": "code",
   "execution_count": 3,
   "metadata": {
    "collapsed": false
   },
   "outputs": [],
   "source": [
    "df_subsetted = pd.read_csv('../data/preprocessed/CA/CA_1981-2015_subsetted.csv', parse_dates=['YEARMODA'])"
   ]
  },
  {
   "cell_type": "code",
   "execution_count": 34,
   "metadata": {
    "collapsed": false
   },
   "outputs": [
    {
     "data": {
      "text/html": [
       "<div>\n",
       "<table border=\"1\" class=\"dataframe\">\n",
       "  <thead>\n",
       "    <tr style=\"text-align: right;\">\n",
       "      <th></th>\n",
       "      <th>YEARMODA</th>\n",
       "      <th>STN</th>\n",
       "      <th>TEMP</th>\n",
       "      <th>DIFF</th>\n",
       "      <th>PRCP</th>\n",
       "      <th>GUST</th>\n",
       "    </tr>\n",
       "  </thead>\n",
       "  <tbody>\n",
       "    <tr>\n",
       "      <th>0</th>\n",
       "      <td>1985-04-24</td>\n",
       "      <td>691414</td>\n",
       "      <td>54.1</td>\n",
       "      <td>12.6</td>\n",
       "      <td>0</td>\n",
       "      <td>15.0</td>\n",
       "    </tr>\n",
       "    <tr>\n",
       "      <th>1</th>\n",
       "      <td>1985-04-25</td>\n",
       "      <td>691414</td>\n",
       "      <td>42.9</td>\n",
       "      <td>12.6</td>\n",
       "      <td>NaN</td>\n",
       "      <td>25.1</td>\n",
       "    </tr>\n",
       "    <tr>\n",
       "      <th>2</th>\n",
       "      <td>1985-04-26</td>\n",
       "      <td>691414</td>\n",
       "      <td>43.0</td>\n",
       "      <td>18.0</td>\n",
       "      <td>NaN</td>\n",
       "      <td>20.0</td>\n",
       "    </tr>\n",
       "    <tr>\n",
       "      <th>3</th>\n",
       "      <td>1985-04-27</td>\n",
       "      <td>691414</td>\n",
       "      <td>42.4</td>\n",
       "      <td>12.6</td>\n",
       "      <td>NaN</td>\n",
       "      <td>53.0</td>\n",
       "    </tr>\n",
       "    <tr>\n",
       "      <th>4</th>\n",
       "      <td>1985-04-28</td>\n",
       "      <td>691414</td>\n",
       "      <td>40.5</td>\n",
       "      <td>14.4</td>\n",
       "      <td>NaN</td>\n",
       "      <td>40.0</td>\n",
       "    </tr>\n",
       "  </tbody>\n",
       "</table>\n",
       "</div>"
      ],
      "text/plain": [
       "    YEARMODA     STN  TEMP  DIFF  PRCP  GUST\n",
       "0 1985-04-24  691414  54.1  12.6     0  15.0\n",
       "1 1985-04-25  691414  42.9  12.6   NaN  25.1\n",
       "2 1985-04-26  691414  43.0  18.0   NaN  20.0\n",
       "3 1985-04-27  691414  42.4  12.6   NaN  53.0\n",
       "4 1985-04-28  691414  40.5  14.4   NaN  40.0"
      ]
     },
     "execution_count": 34,
     "metadata": {},
     "output_type": "execute_result"
    }
   ],
   "source": [
    "df_subsetted.head()"
   ]
  },
  {
   "cell_type": "code",
   "execution_count": 136,
   "metadata": {
    "collapsed": false
   },
   "outputs": [
    {
     "data": {
      "text/plain": [
       "YEARMODA    1370304\n",
       "STN         1370304\n",
       "TEMP        1370304\n",
       "DIFF        1366469\n",
       "PRCP        1341677\n",
       "GUST         386697\n",
       "dtype: int64"
      ]
     },
     "execution_count": 136,
     "metadata": {},
     "output_type": "execute_result"
    }
   ],
   "source": [
    "df_subsetted.count()"
   ]
  },
  {
   "cell_type": "markdown",
   "metadata": {},
   "source": [
    "## LA AIRPORT STATION"
   ]
  },
  {
   "cell_type": "code",
   "execution_count": 7,
   "metadata": {
    "collapsed": false
   },
   "outputs": [],
   "source": [
    "la = df_subsetted[df_subsetted['STN'] == 722950]"
   ]
  },
  {
   "cell_type": "markdown",
   "metadata": {},
   "source": [
    "Only less than 20% of data from la airport station has GUST value. Let's not use GUST"
   ]
  },
  {
   "cell_type": "code",
   "execution_count": 82,
   "metadata": {
    "collapsed": false
   },
   "outputs": [
    {
     "data": {
      "text/plain": [
       "YEARMODA    12426\n",
       "STN         12426\n",
       "TEMP        12426\n",
       "DIFF        12426\n",
       "PRCP        12419\n",
       "GUST         2453\n",
       "dtype: int64"
      ]
     },
     "execution_count": 82,
     "metadata": {},
     "output_type": "execute_result"
    }
   ],
   "source": [
    "la.count()"
   ]
  },
  {
   "cell_type": "markdown",
   "metadata": {},
   "source": [
    "### Precipitation Comparison between el nino year vs. normal year"
   ]
  },
  {
   "cell_type": "markdown",
   "metadata": {},
   "source": [
    "The most significant indicator of El nino in CA is precipitation."
   ]
  },
  {
   "cell_type": "markdown",
   "metadata": {},
   "source": [
    "<img src=\"http://www.trbimg.com/img-55d635df/turbine/la-me-g-0820-el-nino-rainfall-comparison-20150820/750/750x422\" />"
   ]
  },
  {
   "cell_type": "markdown",
   "metadata": {},
   "source": [
    "Source: http://www.latimes.com/local/lanow/la-me-ln-el-nino-temperatures-new-record-20151117-story.html"
   ]
  },
  {
   "cell_type": "code",
   "execution_count": 39,
   "metadata": {
    "collapsed": true
   },
   "outputs": [],
   "source": [
    "from plotly import plotly as ply\n",
    "from plotly import graph_objs as go"
   ]
  },
  {
   "cell_type": "code",
   "execution_count": 106,
   "metadata": {
    "collapsed": true
   },
   "outputs": [],
   "source": [
    "tt = la.set_index('YEARMODA')[['PRCP']]['1997-7-1':'1998-6-30']\n",
    "tt2 = la.set_index('YEARMODA')[['PRCP']]['2014-7-1':'2015-6-30']\n",
    "rr = tt.resample('M') \n",
    "rr2 = tt2.resample('M')"
   ]
  },
  {
   "cell_type": "code",
   "execution_count": 105,
   "metadata": {
    "collapsed": false,
    "scrolled": false
   },
   "outputs": [
    {
     "data": {
      "text/html": [
       "<iframe id=\"igraph\" scrolling=\"no\" style=\"border:none;\"seamless=\"seamless\" src=\"https://plot.ly/~LIBELO6/555.embed\" height=\"525\" width=\"100%\"></iframe>"
      ],
      "text/plain": [
       "<plotly.tools.PlotlyDisplay object>"
      ]
     },
     "execution_count": 105,
     "metadata": {},
     "output_type": "execute_result"
    }
   ],
   "source": [
    "traces = []\n",
    "traces.append(go.Scatter(\n",
    "    x=tt.index.map(lambda x:x.strftime('%b %d')),\n",
    "    y=tt['PRCPzz'],\n",
    "    name='1997-1998'))\n",
    "traces.append(go.Scatter(\n",
    "    x=tt2.index.map(lambda x:x.strftime('%b %d')),\n",
    "    y=tt2['PRCP'],\n",
    "    name='2014-2015'))\n",
    "traces.append(go.Scatter(\n",
    "    x=rr.index.map(lambda x:x.strftime('%b %d')),\n",
    "    y=rr['PRCP'],\n",
    "    name='1997-1998 monthly'))\n",
    "traces.append(go.Scatter(\n",
    "    x=rr2.index.map(lambda x:x.strftime('%b %d')),\n",
    "    y=rr2['PRCP'],\n",
    "    name='2014-2015 monthly'))\n",
    "ply.iplot(traces, filename='WeatherData/test')"
   ]
  },
  {
   "cell_type": "markdown",
   "metadata": {},
   "source": [
    "There's a huge difference in precipitation between 1997-1998 and 2014-2015, but only obvious in Feb."
   ]
  },
  {
   "cell_type": "markdown",
   "metadata": {},
   "source": [
    "<img src=\"http://data-week.popsci.com/gifs/Precipitation-Comparison-Two-ElNino-Years.gif\" />"
   ]
  },
  {
   "cell_type": "markdown",
   "metadata": {},
   "source": [
    "## Temperature comparison"
   ]
  },
  {
   "cell_type": "code",
   "execution_count": 133,
   "metadata": {
    "collapsed": false
   },
   "outputs": [
    {
     "data": {
      "text/html": [
       "<iframe id=\"igraph\" scrolling=\"no\" style=\"border:none;\"seamless=\"seamless\" src=\"https://plot.ly/~LIBELO6/555.embed\" height=\"525\" width=\"100%\"></iframe>"
      ],
      "text/plain": [
       "<plotly.tools.PlotlyDisplay object>"
      ]
     },
     "execution_count": 133,
     "metadata": {},
     "output_type": "execute_result"
    }
   ],
   "source": [
    "tt = la.set_index('YEARMODA')['1997-7-1':'1998-6-30']\n",
    "tt2 = la.set_index('YEARMODA')['2014-7-1':'2015-6-30']\n",
    "rr = tt.resample('M') \n",
    "rr2 = tt2.resample('M')\n",
    "traces = []\n",
    "traces.append(go.Scatter(\n",
    "    x=tt.index.map(lambda x:x.strftime('%b %d')),\n",
    "    y=tt['TEMP'],\n",
    "    name='1997-1998'))\n",
    "traces.append(go.Scatter(\n",
    "    x=tt2.index.map(lambda x:x.strftime('%b %d')),\n",
    "    y=tt2['TEMP'],\n",
    "    name='2014-2015'))\n",
    "traces.append(go.Scatter(\n",
    "    x=rr.index.map(lambda x:x.strftime('%b %d')),\n",
    "    y=rr['TEMP'],\n",
    "    name='1997-1998 monthly'))\n",
    "traces.append(go.Scatter(\n",
    "    x=rr2.index.map(lambda x:x.strftime('%b %d')),\n",
    "    y=rr2['TEMP'],\n",
    "    name='2014-2015 monthly'))\n",
    "\n",
    "ply.iplot(traces, filename='WeatherData/test')"
   ]
  },
  {
   "cell_type": "markdown",
   "metadata": {},
   "source": [
    "Not very significant."
   ]
  },
  {
   "cell_type": "code",
   "execution_count": 132,
   "metadata": {
    "collapsed": false
   },
   "outputs": [
    {
     "data": {
      "text/html": [
       "<iframe id=\"igraph\" scrolling=\"no\" style=\"border:none;\"seamless=\"seamless\" src=\"https://plot.ly/~LIBELO6/555.embed\" height=\"525\" width=\"100%\"></iframe>"
      ],
      "text/plain": [
       "<plotly.tools.PlotlyDisplay object>"
      ]
     },
     "execution_count": 132,
     "metadata": {},
     "output_type": "execute_result"
    }
   ],
   "source": [
    "tt = la.set_index('YEARMODA')['1997-7-1':'1998-6-30']\n",
    "tt2 = la.set_index('YEARMODA')['1996-7-1':'1997-6-30']\n",
    "rr = tt.resample('M') \n",
    "rr2 = tt2.resample('M')\n",
    "traces = []\n",
    "traces.append(go.Scatter(\n",
    "    x=tt.index.map(lambda x:x.strftime('%b %d')),\n",
    "    y=tt['TEMP'],\n",
    "    name='1997-1998'))\n",
    "traces.append(go.Scatter(\n",
    "    x=tt2.index.map(lambda x:x.strftime('%b %d')),\n",
    "    y=tt2['TEMP'],\n",
    "    name='1996-1997'))\n",
    "traces.append(go.Scatter(\n",
    "    x=rr.index.map(lambda x:x.strftime('%b %d')),\n",
    "    y=rr['TEMP'],\n",
    "    name='1997-1998 monthly'))\n",
    "traces.append(go.Scatter(\n",
    "    x=rr2.index.map(lambda x:x.strftime('%b %d')),\n",
    "    y=rr2['TEMP'],\n",
    "    name='1996-1997 monthly'))\n",
    "\n",
    "ply.iplot(traces, filename='WeatherData/test')"
   ]
  },
  {
   "cell_type": "markdown",
   "metadata": {},
   "source": [
    "But there's some difference between 1997-1998 and 1996-1997. Both 2014-2015 and 1996-1997 are normal years."
   ]
  },
  {
   "cell_type": "markdown",
   "metadata": {},
   "source": [
    "<img src=\"http://data-week.popsci.com/gifs/Temperature-Comparison-Two-ElNino-Years.gif\" />"
   ]
  },
  {
   "cell_type": "markdown",
   "metadata": {},
   "source": [
    "Even in 1997-1998, temperature in CA was only typical. CA is predicted to be warmer in this winter but not very high probability."
   ]
  },
  {
   "cell_type": "markdown",
   "metadata": {},
   "source": [
    "## Does this also hold for 1982-1983?"
   ]
  },
  {
   "cell_type": "code",
   "execution_count": 135,
   "metadata": {
    "collapsed": false,
    "scrolled": false
   },
   "outputs": [
    {
     "data": {
      "text/html": [
       "<iframe id=\"igraph\" scrolling=\"no\" style=\"border:none;\"seamless=\"seamless\" src=\"https://plot.ly/~LIBELO6/555.embed\" height=\"525\" width=\"100%\"></iframe>"
      ],
      "text/plain": [
       "<plotly.tools.PlotlyDisplay object>"
      ]
     },
     "execution_count": 135,
     "metadata": {},
     "output_type": "execute_result"
    }
   ],
   "source": [
    "tt = la.set_index('YEARMODA')['1982-7-1':'1983-6-30']\n",
    "tt2 = la.set_index('YEARMODA')['2014-7-1':'2015-6-30']\n",
    "rr = tt.resample('M') \n",
    "rr2 = tt2.resample('M')\n",
    "traces = []\n",
    "traces.append(go.Scatter(\n",
    "    x=tt.index.map(lambda x:x.strftime('%b %d')),\n",
    "    y=tt['PRCP'],\n",
    "    name='1982-1983'))\n",
    "traces.append(go.Scatter(\n",
    "    x=tt2.index.map(lambda x:x.strftime('%b %d')),\n",
    "    y=tt2['PRCP'],\n",
    "    name='2014-2015'))\n",
    "traces.append(go.Scatter(\n",
    "    x=rr.index.map(lambda x:x.strftime('%b %d')),\n",
    "    y=rr['PRCP'],\n",
    "    name='1982-1983 monthly'))\n",
    "traces.append(go.Scatter(\n",
    "    x=rr2.index.map(lambda x:x.strftime('%b %d')),\n",
    "    y=rr2['PRCP'],\n",
    "    name='2014-2015 monthly'))\n",
    "\n",
    "ply.iplot(traces, filename='WeatherData/test')"
   ]
  },
  {
   "cell_type": "markdown",
   "metadata": {},
   "source": [
    "Even less significant."
   ]
  },
  {
   "cell_type": "code",
   "execution_count": 134,
   "metadata": {
    "collapsed": false
   },
   "outputs": [
    {
     "data": {
      "text/html": [
       "<iframe id=\"igraph\" scrolling=\"no\" style=\"border:none;\"seamless=\"seamless\" src=\"https://plot.ly/~LIBELO6/555.embed\" height=\"525\" width=\"100%\"></iframe>"
      ],
      "text/plain": [
       "<plotly.tools.PlotlyDisplay object>"
      ]
     },
     "execution_count": 134,
     "metadata": {},
     "output_type": "execute_result"
    }
   ],
   "source": [
    "tt = la.set_index('YEARMODA')['1982-7-1':'1983-6-30']\n",
    "tt2 = la.set_index('YEARMODA')['2014-7-1':'2015-6-30']\n",
    "rr = tt.resample('M') \n",
    "rr2 = tt2.resample('M')\n",
    "traces = []\n",
    "traces.append(go.Scatter(\n",
    "    x=tt.index.map(lambda x:x.strftime('%b %d')),\n",
    "    y=tt['TEMP'],\n",
    "    name='1982-1983'))\n",
    "traces.append(go.Scatter(\n",
    "    x=tt2.index.map(lambda x:x.strftime('%b %d')),\n",
    "    y=tt2['TEMP'],\n",
    "    name='2014-2015'))\n",
    "traces.append(go.Scatter(\n",
    "    x=rr.index.map(lambda x:x.strftime('%b %d')),\n",
    "    y=rr['TEMP'],\n",
    "    name='1982-1983 monthly'))\n",
    "traces.append(go.Scatter(\n",
    "    x=rr2.index.map(lambda x:x.strftime('%b %d')),\n",
    "    y=rr2['TEMP'],\n",
    "    name='2014-2015 monthly'))\n",
    "\n",
    "ply.iplot(traces, filename='WeatherData/test')"
   ]
  },
  {
   "cell_type": "markdown",
   "metadata": {},
   "source": [
    "# El nino index"
   ]
  },
  {
   "cell_type": "code",
   "execution_count": 166,
   "metadata": {
    "collapsed": false
   },
   "outputs": [],
   "source": [
    "a = la.set_index('YEARMODA')[['PRCP']][:'2014']"
   ]
  },
  {
   "cell_type": "code",
   "execution_count": 167,
   "metadata": {
    "collapsed": false
   },
   "outputs": [],
   "source": [
    "b = a[a.index.map(lambda x:True if x.month in [11,12,1,2] else False)].resample('M').dropna().shift(-6, 'M')\n",
    "c = b.groupby(b.index.year).apply(lambda x:x.mean())"
   ]
  },
  {
   "cell_type": "markdown",
   "metadata": {},
   "source": [
    "## Precipitation in LA"
   ]
  },
  {
   "cell_type": "code",
   "execution_count": 168,
   "metadata": {
    "collapsed": false,
    "scrolled": false
   },
   "outputs": [
    {
     "data": {
      "text/html": [
       "<iframe id=\"igraph\" scrolling=\"no\" style=\"border:none;\"seamless=\"seamless\" src=\"https://plot.ly/~LIBELO6/555.embed\" height=\"525\" width=\"100%\"></iframe>"
      ],
      "text/plain": [
       "<plotly.tools.PlotlyDisplay object>"
      ]
     },
     "execution_count": 168,
     "metadata": {},
     "output_type": "execute_result"
    }
   ],
   "source": [
    "trace0 = go.Scatter(x=c.index,\n",
    "                    y=c['PRCP'])\n",
    "ply.iplot([trace0], filename='WeatherData/test')"
   ]
  },
  {
   "cell_type": "code",
   "execution_count": 130,
   "metadata": {
    "collapsed": false
   },
   "outputs": [
    {
     "name": "stderr",
     "output_type": "stream",
     "text": [
      "/Library/Frameworks/Python.framework/Versions/3.4/lib/python3.4/site-packages/pandas/io/parsers.py:648: ParserWarning:\n",
      "\n",
      "Falling back to the 'python' engine because the 'c' engine does not support regex separators; you can avoid this warning by specifying engine='python'.\n",
      "\n"
     ]
    }
   ],
   "source": [
    "oci = pd.read_csv('../data/raw/ONI.txt', sep=r'\\t')"
   ]
  },
  {
   "cell_type": "code",
   "execution_count": 141,
   "metadata": {
    "collapsed": false
   },
   "outputs": [],
   "source": [
    "oci['index'] = oci['Type'].map({'VSL':-2, 'SL':-1.5, 'ML':-1, 'WL':-0.5, 'N':0, 'WE':0.5, 'ME':1, 'SE':1.5, 'VSE':2})"
   ]
  },
  {
   "cell_type": "code",
   "execution_count": 159,
   "metadata": {
    "collapsed": false
   },
   "outputs": [],
   "source": [
    "d = pd.concat([c, oci.set_index('From')[['index']]], join='inner', axis=1)"
   ]
  },
  {
   "cell_type": "markdown",
   "metadata": {},
   "source": [
    "## Precipitation and El nino (Higher index means stronger el nino)"
   ]
  },
  {
   "cell_type": "code",
   "execution_count": 163,
   "metadata": {
    "collapsed": false
   },
   "outputs": [
    {
     "data": {
      "text/html": [
       "<iframe id=\"igraph\" scrolling=\"no\" style=\"border:none;\"seamless=\"seamless\" src=\"https://plot.ly/~LIBELO6/555.embed\" height=\"525\" width=\"100%\"></iframe>"
      ],
      "text/plain": [
       "<plotly.tools.PlotlyDisplay object>"
      ]
     },
     "execution_count": 163,
     "metadata": {},
     "output_type": "execute_result"
    }
   ],
   "source": [
    "traces = []\n",
    "traces.append(go.Scatter(x=d['index'], y=d['PRCP'], text=d.index, mode='markers'))\n",
    "ply.iplot(traces, filename='WeatherData/test')"
   ]
  },
  {
   "cell_type": "markdown",
   "metadata": {},
   "source": [
    "Positive Correlation between precipitation and el nino. (at least in LA)"
   ]
  },
  {
   "cell_type": "markdown",
   "metadata": {},
   "source": [
    "## Temperature and El nino"
   ]
  },
  {
   "cell_type": "code",
   "execution_count": 169,
   "metadata": {
    "collapsed": false
   },
   "outputs": [
    {
     "data": {
      "text/html": [
       "<iframe id=\"igraph\" scrolling=\"no\" style=\"border:none;\"seamless=\"seamless\" src=\"https://plot.ly/~LIBELO6/555.embed\" height=\"525\" width=\"100%\"></iframe>"
      ],
      "text/plain": [
       "<plotly.tools.PlotlyDisplay object>"
      ]
     },
     "execution_count": 169,
     "metadata": {},
     "output_type": "execute_result"
    }
   ],
   "source": [
    "a = la.set_index('YEARMODA')[['TEMP']][:'2014']\n",
    "b = a[a.index.map(lambda x:True if x.month in [11,12,1,2] else False)].resample('M').dropna().shift(-6, 'M')\n",
    "c = b.groupby(b.index.year).apply(lambda x:x.mean())\n",
    "d = pd.concat([c, oci.set_index('From')[['index']]], join='inner', axis=1)\n",
    "traces = []\n",
    "traces.append(go.Scatter(x=d['index'], y=d['TEMP'], text=d.index, mode='markers'))\n",
    "ply.iplot(traces, filename='WeatherData/test')"
   ]
  },
  {
   "cell_type": "markdown",
   "metadata": {},
   "source": [
    "Not obvious correlation"
   ]
  }
 ],
 "metadata": {
  "kernelspec": {
   "display_name": "Python 3",
   "language": "python",
   "name": "python3"
  },
  "language_info": {
   "codemirror_mode": {
    "name": "ipython",
    "version": 3
   },
   "file_extension": ".py",
   "mimetype": "text/x-python",
   "name": "python",
   "nbconvert_exporter": "python",
   "pygments_lexer": "ipython3",
   "version": "3.4.3"
  }
 },
 "nbformat": 4,
 "nbformat_minor": 0
}
