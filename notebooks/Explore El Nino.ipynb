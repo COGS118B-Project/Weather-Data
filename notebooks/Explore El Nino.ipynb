{
 "cells": [
  {
   "cell_type": "code",
   "execution_count": 200,
   "metadata": {
    "collapsed": true
   },
   "outputs": [],
   "source": [
    "import pandas as pd"
   ]
  },
  {
   "cell_type": "code",
   "execution_count": 244,
   "metadata": {
    "collapsed": false
   },
   "outputs": [],
   "source": [
    "df_subsetted = pd.read_csv('../data/preprocessed/CA/CA_1981-2015_subsetted2.csv', parse_dates=['YEARMODA'])"
   ]
  },
  {
   "cell_type": "code",
   "execution_count": 245,
   "metadata": {
    "collapsed": false
   },
   "outputs": [
    {
     "data": {
      "text/html": [
       "<div>\n",
       "<table border=\"1\" class=\"dataframe\">\n",
       "  <thead>\n",
       "    <tr style=\"text-align: right;\">\n",
       "      <th></th>\n",
       "      <th>Unnamed: 0</th>\n",
       "      <th>STN</th>\n",
       "      <th>YEARMODA</th>\n",
       "      <th>TEMP</th>\n",
       "      <th>PRCP</th>\n",
       "      <th>GUST</th>\n",
       "      <th>WDSP</th>\n",
       "      <th>MXSPD</th>\n",
       "    </tr>\n",
       "  </thead>\n",
       "  <tbody>\n",
       "    <tr>\n",
       "      <th>0</th>\n",
       "      <td>0</td>\n",
       "      <td>691414</td>\n",
       "      <td>1985-04-24</td>\n",
       "      <td>54.1</td>\n",
       "      <td>0</td>\n",
       "      <td>15.0</td>\n",
       "      <td>5.6</td>\n",
       "      <td>9.9</td>\n",
       "    </tr>\n",
       "    <tr>\n",
       "      <th>1</th>\n",
       "      <td>1</td>\n",
       "      <td>691414</td>\n",
       "      <td>1985-04-25</td>\n",
       "      <td>42.9</td>\n",
       "      <td>NaN</td>\n",
       "      <td>25.1</td>\n",
       "      <td>12.6</td>\n",
       "      <td>19.0</td>\n",
       "    </tr>\n",
       "    <tr>\n",
       "      <th>2</th>\n",
       "      <td>2</td>\n",
       "      <td>691414</td>\n",
       "      <td>1985-04-26</td>\n",
       "      <td>43.0</td>\n",
       "      <td>NaN</td>\n",
       "      <td>20.0</td>\n",
       "      <td>8.8</td>\n",
       "      <td>15.9</td>\n",
       "    </tr>\n",
       "    <tr>\n",
       "      <th>3</th>\n",
       "      <td>3</td>\n",
       "      <td>691414</td>\n",
       "      <td>1985-04-27</td>\n",
       "      <td>42.4</td>\n",
       "      <td>NaN</td>\n",
       "      <td>53.0</td>\n",
       "      <td>16.3</td>\n",
       "      <td>29.9</td>\n",
       "    </tr>\n",
       "    <tr>\n",
       "      <th>4</th>\n",
       "      <td>4</td>\n",
       "      <td>691414</td>\n",
       "      <td>1985-04-28</td>\n",
       "      <td>40.5</td>\n",
       "      <td>NaN</td>\n",
       "      <td>40.0</td>\n",
       "      <td>14.0</td>\n",
       "      <td>27.0</td>\n",
       "    </tr>\n",
       "  </tbody>\n",
       "</table>\n",
       "</div>"
      ],
      "text/plain": [
       "   Unnamed: 0     STN   YEARMODA  TEMP  PRCP  GUST  WDSP  MXSPD\n",
       "0           0  691414 1985-04-24  54.1     0  15.0   5.6    9.9\n",
       "1           1  691414 1985-04-25  42.9   NaN  25.1  12.6   19.0\n",
       "2           2  691414 1985-04-26  43.0   NaN  20.0   8.8   15.9\n",
       "3           3  691414 1985-04-27  42.4   NaN  53.0  16.3   29.9\n",
       "4           4  691414 1985-04-28  40.5   NaN  40.0  14.0   27.0"
      ]
     },
     "execution_count": 245,
     "metadata": {},
     "output_type": "execute_result"
    }
   ],
   "source": [
    "df_subsetted.head()"
   ]
  },
  {
   "cell_type": "code",
   "execution_count": 246,
   "metadata": {
    "collapsed": false
   },
   "outputs": [
    {
     "data": {
      "text/plain": [
       "Unnamed: 0    1370304\n",
       "STN           1370304\n",
       "YEARMODA      1370304\n",
       "TEMP          1370304\n",
       "PRCP          1341677\n",
       "GUST           386697\n",
       "WDSP          1342008\n",
       "MXSPD         1338075\n",
       "dtype: int64"
      ]
     },
     "execution_count": 246,
     "metadata": {},
     "output_type": "execute_result"
    }
   ],
   "source": [
    "df_subsetted.count()"
   ]
  },
  {
   "cell_type": "markdown",
   "metadata": {},
   "source": [
    "# LA AIRPORT STATION"
   ]
  },
  {
   "cell_type": "code",
   "execution_count": 247,
   "metadata": {
    "collapsed": false
   },
   "outputs": [],
   "source": [
    "la = df_subsetted[df_subsetted['STN'] == 722950]"
   ]
  },
  {
   "cell_type": "markdown",
   "metadata": {},
   "source": [
    "Only less than 20% of data from la airport station has GUST value. Let's not use GUST"
   ]
  },
  {
   "cell_type": "code",
   "execution_count": 248,
   "metadata": {
    "collapsed": false
   },
   "outputs": [
    {
     "data": {
      "text/plain": [
       "Unnamed: 0    12426\n",
       "STN           12426\n",
       "YEARMODA      12426\n",
       "TEMP          12426\n",
       "PRCP          12419\n",
       "GUST           2453\n",
       "WDSP          12426\n",
       "MXSPD         12424\n",
       "dtype: int64"
      ]
     },
     "execution_count": 248,
     "metadata": {},
     "output_type": "execute_result"
    }
   ],
   "source": [
    "la.count()"
   ]
  },
  {
   "cell_type": "markdown",
   "metadata": {},
   "source": [
    "### Precipitation Comparison between el nino year vs. normal year"
   ]
  },
  {
   "cell_type": "markdown",
   "metadata": {},
   "source": [
    "The most significant indicator of El nino in CA is precipitation."
   ]
  },
  {
   "cell_type": "markdown",
   "metadata": {},
   "source": [
    "<img src=\"http://www.trbimg.com/img-55d635df/turbine/la-me-g-0820-el-nino-rainfall-comparison-20150820/750/750x422\" />"
   ]
  },
  {
   "cell_type": "markdown",
   "metadata": {},
   "source": [
    "Source: http://www.latimes.com/local/lanow/la-me-ln-el-nino-temperatures-new-record-20151117-story.html"
   ]
  },
  {
   "cell_type": "code",
   "execution_count": 249,
   "metadata": {
    "collapsed": true
   },
   "outputs": [],
   "source": [
    "from plotly import plotly as ply\n",
    "from plotly import graph_objs as go"
   ]
  },
  {
   "cell_type": "code",
   "execution_count": 250,
   "metadata": {
    "collapsed": true
   },
   "outputs": [],
   "source": [
    "tt = la.set_index('YEARMODA')[['PRCP']]['1997-7-1':'1998-6-30']\n",
    "tt2 = la.set_index('YEARMODA')[['PRCP']]['2014-7-1':'2015-6-30']\n",
    "rr = tt.resample('M') \n",
    "rr2 = tt2.resample('M')"
   ]
  },
  {
   "cell_type": "code",
   "execution_count": 251,
   "metadata": {
    "collapsed": false,
    "scrolled": false
   },
   "outputs": [
    {
     "data": {
      "text/html": [
       "<iframe id=\"igraph\" scrolling=\"no\" style=\"border:none;\"seamless=\"seamless\" src=\"https://plot.ly/~LIBELO6/565.embed\" height=\"525\" width=\"100%\"></iframe>"
      ],
      "text/plain": [
       "<plotly.tools.PlotlyDisplay object>"
      ]
     },
     "execution_count": 251,
     "metadata": {},
     "output_type": "execute_result"
    }
   ],
   "source": [
    "traces = []\n",
    "traces.append(go.Scatter(\n",
    "    x=tt.index.map(lambda x:x.strftime('%b %d')),\n",
    "    y=tt['PRCP'],\n",
    "    name='1997-1998'))\n",
    "traces.append(go.Scatter(\n",
    "    x=tt2.index.map(lambda x:x.strftime('%b %d')),\n",
    "    y=tt2['PRCP'],\n",
    "    name='2014-2015'))\n",
    "traces.append(go.Scatter(\n",
    "    x=rr.index.map(lambda x:x.strftime('%b %d')),\n",
    "    y=rr['PRCP'],\n",
    "    name='1997-1998 monthly'))\n",
    "traces.append(go.Scatter(\n",
    "    x=rr2.index.map(lambda x:x.strftime('%b %d')),\n",
    "    y=rr2['PRCP'],\n",
    "    name='2014-2015 monthly'))\n",
    "ply.iplot(traces, filename='WeatherData/test1')"
   ]
  },
  {
   "cell_type": "markdown",
   "metadata": {},
   "source": [
    "There's a huge difference in precipitation between 1997-1998 and 2014-2015, but only obvious in Feb."
   ]
  },
  {
   "cell_type": "markdown",
   "metadata": {},
   "source": [
    "<img src=\"http://data-week.popsci.com/gifs/Precipitation-Comparison-Two-ElNino-Years.gif\" />"
   ]
  },
  {
   "cell_type": "markdown",
   "metadata": {},
   "source": [
    "## Temperature comparison"
   ]
  },
  {
   "cell_type": "code",
   "execution_count": 252,
   "metadata": {
    "collapsed": false
   },
   "outputs": [
    {
     "data": {
      "text/html": [
       "<iframe id=\"igraph\" scrolling=\"no\" style=\"border:none;\"seamless=\"seamless\" src=\"https://plot.ly/~LIBELO6/567.embed\" height=\"525\" width=\"100%\"></iframe>"
      ],
      "text/plain": [
       "<plotly.tools.PlotlyDisplay object>"
      ]
     },
     "execution_count": 252,
     "metadata": {},
     "output_type": "execute_result"
    }
   ],
   "source": [
    "tt = la.set_index('YEARMODA')['1997-7-1':'1998-6-30']\n",
    "tt2 = la.set_index('YEARMODA')['2014-7-1':'2015-6-30']\n",
    "rr = tt.resample('M') \n",
    "rr2 = tt2.resample('M')\n",
    "traces = []\n",
    "traces.append(go.Scatter(\n",
    "    x=tt.index.map(lambda x:x.strftime('%b %d')),\n",
    "    y=tt['TEMP'],\n",
    "    name='1997-1998'))\n",
    "traces.append(go.Scatter(\n",
    "    x=tt2.index.map(lambda x:x.strftime('%b %d')),\n",
    "    y=tt2['TEMP'],\n",
    "    name='2014-2015'))\n",
    "traces.append(go.Scatter(\n",
    "    x=rr.index.map(lambda x:x.strftime('%b %d')),\n",
    "    y=rr['TEMP'],\n",
    "    name='1997-1998 monthly'))\n",
    "traces.append(go.Scatter(\n",
    "    x=rr2.index.map(lambda x:x.strftime('%b %d')),\n",
    "    y=rr2['TEMP'],\n",
    "    name='2014-2015 monthly'))\n",
    "\n",
    "ply.iplot(traces, filename='WeatherData/test2')"
   ]
  },
  {
   "cell_type": "markdown",
   "metadata": {},
   "source": [
    "Not very significant."
   ]
  },
  {
   "cell_type": "code",
   "execution_count": 183,
   "metadata": {
    "collapsed": false
   },
   "outputs": [
    {
     "data": {
      "text/html": [
       "<iframe id=\"igraph\" scrolling=\"no\" style=\"border:none;\"seamless=\"seamless\" src=\"https://plot.ly/~LIBELO6/569.embed\" height=\"525\" width=\"100%\"></iframe>"
      ],
      "text/plain": [
       "<plotly.tools.PlotlyDisplay object>"
      ]
     },
     "execution_count": 183,
     "metadata": {},
     "output_type": "execute_result"
    }
   ],
   "source": [
    "tt = la.set_index('YEARMODA')['1997-7-1':'1998-6-30']\n",
    "tt2 = la.set_index('YEARMODA')['1996-7-1':'1997-6-30']\n",
    "rr = tt.resample('M') \n",
    "rr2 = tt2.resample('M')\n",
    "traces = []\n",
    "traces.append(go.Scatter(\n",
    "    x=tt.index.map(lambda x:x.strftime('%b %d')),\n",
    "    y=tt['TEMP'],\n",
    "    name='1997-1998'))\n",
    "traces.append(go.Scatter(\n",
    "    x=tt2.index.map(lambda x:x.strftime('%b %d')),\n",
    "    y=tt2['TEMP'],\n",
    "    name='1996-1997'))\n",
    "traces.append(go.Scatter(\n",
    "    x=rr.index.map(lambda x:x.strftime('%b %d')),\n",
    "    y=rr['TEMP'],\n",
    "    name='1997-1998 monthly'))\n",
    "traces.append(go.Scatter(\n",
    "    x=rr2.index.map(lambda x:x.strftime('%b %d')),\n",
    "    y=rr2['TEMP'],\n",
    "    name='1996-1997 monthly'))\n",
    "\n",
    "ply.iplot(traces, filename='WeatherData/test3')"
   ]
  },
  {
   "cell_type": "markdown",
   "metadata": {},
   "source": [
    "But there's some difference between 1997-1998 and 1996-1997. Both 2014-2015 and 1996-1997 are normal years."
   ]
  },
  {
   "cell_type": "markdown",
   "metadata": {},
   "source": [
    "<img src=\"http://data-week.popsci.com/gifs/Temperature-Comparison-Two-ElNino-Years.gif\" />"
   ]
  },
  {
   "cell_type": "markdown",
   "metadata": {},
   "source": [
    "Even in 1997-1998, temperature in CA was only typical. CA is predicted to be warmer in this winter but not very high probability."
   ]
  },
  {
   "cell_type": "markdown",
   "metadata": {},
   "source": [
    "## Does this also hold for 1982-1983?"
   ]
  },
  {
   "cell_type": "code",
   "execution_count": 253,
   "metadata": {
    "collapsed": false,
    "scrolled": false
   },
   "outputs": [
    {
     "data": {
      "text/html": [
       "<iframe id=\"igraph\" scrolling=\"no\" style=\"border:none;\"seamless=\"seamless\" src=\"https://plot.ly/~LIBELO6/571.embed\" height=\"525\" width=\"100%\"></iframe>"
      ],
      "text/plain": [
       "<plotly.tools.PlotlyDisplay object>"
      ]
     },
     "execution_count": 253,
     "metadata": {},
     "output_type": "execute_result"
    }
   ],
   "source": [
    "tt = la.set_index('YEARMODA')['1982-7-1':'1983-6-30']\n",
    "tt2 = la.set_index('YEARMODA')['2014-7-1':'2015-6-30']\n",
    "rr = tt.resample('M') \n",
    "rr2 = tt2.resample('M')\n",
    "traces = []\n",
    "traces.append(go.Scatter(\n",
    "    x=tt.index.map(lambda x:x.strftime('%b %d')),\n",
    "    y=tt['PRCP'],\n",
    "    name='1982-1983'))\n",
    "traces.append(go.Scatter(\n",
    "    x=tt2.index.map(lambda x:x.strftime('%b %d')),\n",
    "    y=tt2['PRCP'],\n",
    "    name='2014-2015'))\n",
    "traces.append(go.Scatter(\n",
    "    x=rr.index.map(lambda x:x.strftime('%b %d')),\n",
    "    y=rr['PRCP'],\n",
    "    name='1982-1983 monthly'))\n",
    "traces.append(go.Scatter(\n",
    "    x=rr2.index.map(lambda x:x.strftime('%b %d')),\n",
    "    y=rr2['PRCP'],\n",
    "    name='2014-2015 monthly'))\n",
    "\n",
    "ply.iplot(traces, filename='WeatherData/test4')"
   ]
  },
  {
   "cell_type": "markdown",
   "metadata": {},
   "source": [
    "Even less significant."
   ]
  },
  {
   "cell_type": "code",
   "execution_count": 254,
   "metadata": {
    "collapsed": false
   },
   "outputs": [
    {
     "data": {
      "text/html": [
       "<iframe id=\"igraph\" scrolling=\"no\" style=\"border:none;\"seamless=\"seamless\" src=\"https://plot.ly/~LIBELO6/579.embed\" height=\"525\" width=\"100%\"></iframe>"
      ],
      "text/plain": [
       "<plotly.tools.PlotlyDisplay object>"
      ]
     },
     "execution_count": 254,
     "metadata": {},
     "output_type": "execute_result"
    }
   ],
   "source": [
    "tt = la.set_index('YEARMODA')['1982-7-1':'1983-6-30']\n",
    "tt2 = la.set_index('YEARMODA')['2014-7-1':'2015-6-30']\n",
    "rr = tt.resample('M') \n",
    "rr2 = tt2.resample('M')\n",
    "traces = []\n",
    "traces.append(go.Scatter(\n",
    "    x=tt.index.map(lambda x:x.strftime('%b %d')),\n",
    "    y=tt['TEMP'],\n",
    "    name='1982-1983'))\n",
    "traces.append(go.Scatter(\n",
    "    x=tt2.index.map(lambda x:x.strftime('%b %d')),\n",
    "    y=tt2['TEMP'],\n",
    "    name='2014-2015'))\n",
    "traces.append(go.Scatter(\n",
    "    x=rr.index.map(lambda x:x.strftime('%b %d')),\n",
    "    y=rr['TEMP'],\n",
    "    name='1982-1983 monthly'))\n",
    "traces.append(go.Scatter(\n",
    "    x=rr2.index.map(lambda x:x.strftime('%b %d')),\n",
    "    y=rr2['TEMP'],\n",
    "    name='2014-2015 monthly'))\n",
    "\n",
    "ply.iplot(traces, filename='WeatherData/test5')"
   ]
  },
  {
   "cell_type": "code",
   "execution_count": 296,
   "metadata": {
    "collapsed": false
   },
   "outputs": [
    {
     "data": {
      "text/html": [
       "<iframe id=\"igraph\" scrolling=\"no\" style=\"border:none;\"seamless=\"seamless\" src=\"https://plot.ly/~LIBELO6/594.embed\" height=\"525\" width=\"100%\"></iframe>"
      ],
      "text/plain": [
       "<plotly.tools.PlotlyDisplay object>"
      ]
     },
     "execution_count": 296,
     "metadata": {},
     "output_type": "execute_result"
    }
   ],
   "source": [
    "tt = la.set_index('YEARMODA')['1982-7-1':'1983-6-30']\n",
    "tt2 = la.set_index('YEARMODA')['2014-7-1':'2015-6-30']\n",
    "rr = tt.resample('M') \n",
    "rr2 = tt2.resample('M')\n",
    "traces = []\n",
    "traces.append(go.Scatter(\n",
    "    x=tt.index.map(lambda x:x.strftime('%b %d')),\n",
    "    y=tt['WDSP'],\n",
    "    name='1982-1983'))\n",
    "traces.append(go.Scatter(\n",
    "    x=tt2.index.map(lambda x:x.strftime('%b %d')),\n",
    "    y=tt2['WDSP'],\n",
    "    name='2014-2015'))\n",
    "traces.append(go.Scatter(\n",
    "    x=rr.index.map(lambda x:x.strftime('%b %d')),\n",
    "    y=rr['WDSP'],\n",
    "    name='1982-1983 monthly'))\n",
    "traces.append(go.Scatter(\n",
    "    x=rr2.index.map(lambda x:x.strftime('%b %d')),\n",
    "    y=rr2['WDSP'],\n",
    "    name='2014-2015 monthly'))\n",
    "\n",
    "ply.iplot(traces, filename='WeatherData/test_wdsp')"
   ]
  },
  {
   "cell_type": "markdown",
   "metadata": {},
   "source": [
    "# Correlations"
   ]
  },
  {
   "cell_type": "code",
   "execution_count": 301,
   "metadata": {
    "collapsed": false
   },
   "outputs": [],
   "source": [
    "indexed = la.set_index('YEARMODA')[['TEMP', 'PRCP', 'WDSP', 'MXSPD']][:'2014']"
   ]
  },
  {
   "cell_type": "code",
   "execution_count": 280,
   "metadata": {
    "collapsed": false
   },
   "outputs": [],
   "source": [
    "shifted = indexed[indexed.index.map(lambda x:True if x.month in [11,12,1,2] else False)].resample('M').dropna().shift(-6, 'M')\n",
    "years = shifted.groupby(shifted.index.year).apply(lambda x:x.mean())"
   ]
  },
  {
   "cell_type": "code",
   "execution_count": 299,
   "metadata": {
    "collapsed": false,
    "scrolled": false
   },
   "outputs": [
    {
     "data": {
      "text/html": [
       "<iframe id=\"igraph\" scrolling=\"no\" style=\"border:none;\"seamless=\"seamless\" src=\"https://plot.ly/~LIBELO6/596.embed\" height=\"525\" width=\"100%\"></iframe>"
      ],
      "text/plain": [
       "<plotly.tools.PlotlyDisplay object>"
      ]
     },
     "execution_count": 299,
     "metadata": {},
     "output_type": "execute_result"
    }
   ],
   "source": [
    "trace0 = go.Scatter(x=years.index,\n",
    "                    y=years['PRCP'])\n",
    "ply.iplot([trace0], filename='WeatherData/testaa')"
   ]
  },
  {
   "cell_type": "markdown",
   "metadata": {},
   "source": [
    "## El nino index"
   ]
  },
  {
   "cell_type": "code",
   "execution_count": 212,
   "metadata": {
    "collapsed": false,
    "scrolled": true
   },
   "outputs": [
    {
     "name": "stderr",
     "output_type": "stream",
     "text": [
      "/Library/Frameworks/Python.framework/Versions/3.4/lib/python3.4/site-packages/pandas/io/parsers.py:648: ParserWarning:\n",
      "\n",
      "Falling back to the 'python' engine because the 'c' engine does not support regex separators; you can avoid this warning by specifying engine='python'.\n",
      "\n"
     ]
    }
   ],
   "source": [
    "oci = pd.read_csv('../data/raw/ONI.txt', sep=r'\\t')"
   ]
  },
  {
   "cell_type": "code",
   "execution_count": 213,
   "metadata": {
    "collapsed": false
   },
   "outputs": [],
   "source": [
    "oci['index'] = oci['Type'].map({'VSL':-2, 'SL':-1.5, 'ML':-1, 'WL':-0.5, 'N':0, 'WE':0.5, 'ME':1, 'SE':1.5, 'VSE':2})"
   ]
  },
  {
   "cell_type": "code",
   "execution_count": 281,
   "metadata": {
    "collapsed": false
   },
   "outputs": [],
   "source": [
    "haha = pd.concat([years, oci.set_index('From')[['index']]], join='inner', axis=1)"
   ]
  },
  {
   "cell_type": "code",
   "execution_count": 266,
   "metadata": {
    "collapsed": false,
    "scrolled": true
   },
   "outputs": [
    {
     "data": {
      "text/html": [
       "<div>\n",
       "<table border=\"1\" class=\"dataframe\">\n",
       "  <thead>\n",
       "    <tr style=\"text-align: right;\">\n",
       "      <th></th>\n",
       "      <th>TEMP</th>\n",
       "      <th>PRCP</th>\n",
       "      <th>WDSP</th>\n",
       "      <th>MXSPD</th>\n",
       "      <th>index</th>\n",
       "    </tr>\n",
       "  </thead>\n",
       "  <tbody>\n",
       "    <tr>\n",
       "      <th>1981</th>\n",
       "      <td>57.935198</td>\n",
       "      <td>0.149135</td>\n",
       "      <td>6.214785</td>\n",
       "      <td>12.867443</td>\n",
       "      <td>0.0</td>\n",
       "    </tr>\n",
       "    <tr>\n",
       "      <th>1982</th>\n",
       "      <td>57.956720</td>\n",
       "      <td>0.154857</td>\n",
       "      <td>6.829877</td>\n",
       "      <td>13.630960</td>\n",
       "      <td>2.0</td>\n",
       "    </tr>\n",
       "    <tr>\n",
       "      <th>1983</th>\n",
       "      <td>58.422312</td>\n",
       "      <td>0.047739</td>\n",
       "      <td>6.306589</td>\n",
       "      <td>13.517670</td>\n",
       "      <td>-0.5</td>\n",
       "    </tr>\n",
       "    <tr>\n",
       "      <th>1984</th>\n",
       "      <td>56.161617</td>\n",
       "      <td>0.083768</td>\n",
       "      <td>6.227346</td>\n",
       "      <td>12.374530</td>\n",
       "      <td>-0.5</td>\n",
       "    </tr>\n",
       "    <tr>\n",
       "      <th>1985</th>\n",
       "      <td>58.826843</td>\n",
       "      <td>0.111417</td>\n",
       "      <td>6.303456</td>\n",
       "      <td>12.749453</td>\n",
       "      <td>0.0</td>\n",
       "    </tr>\n",
       "    <tr>\n",
       "      <th>1986</th>\n",
       "      <td>58.653961</td>\n",
       "      <td>0.032070</td>\n",
       "      <td>6.102775</td>\n",
       "      <td>12.064301</td>\n",
       "      <td>1.0</td>\n",
       "    </tr>\n",
       "    <tr>\n",
       "      <th>1987</th>\n",
       "      <td>57.569042</td>\n",
       "      <td>0.063650</td>\n",
       "      <td>6.540107</td>\n",
       "      <td>12.700383</td>\n",
       "      <td>1.0</td>\n",
       "    </tr>\n",
       "    <tr>\n",
       "      <th>1988</th>\n",
       "      <td>55.961694</td>\n",
       "      <td>0.063833</td>\n",
       "      <td>6.251375</td>\n",
       "      <td>12.123783</td>\n",
       "      <td>-1.5</td>\n",
       "    </tr>\n",
       "    <tr>\n",
       "      <th>1989</th>\n",
       "      <td>58.379608</td>\n",
       "      <td>0.039611</td>\n",
       "      <td>5.921745</td>\n",
       "      <td>11.921313</td>\n",
       "      <td>0.0</td>\n",
       "    </tr>\n",
       "    <tr>\n",
       "      <th>1990</th>\n",
       "      <td>58.715123</td>\n",
       "      <td>0.031383</td>\n",
       "      <td>5.190607</td>\n",
       "      <td>10.285958</td>\n",
       "      <td>0.0</td>\n",
       "    </tr>\n",
       "    <tr>\n",
       "      <th>1991</th>\n",
       "      <td>59.538016</td>\n",
       "      <td>0.082305</td>\n",
       "      <td>6.339271</td>\n",
       "      <td>12.913952</td>\n",
       "      <td>1.0</td>\n",
       "    </tr>\n",
       "    <tr>\n",
       "      <th>1992</th>\n",
       "      <td>57.889253</td>\n",
       "      <td>0.169090</td>\n",
       "      <td>6.764566</td>\n",
       "      <td>12.914391</td>\n",
       "      <td>0.0</td>\n",
       "    </tr>\n",
       "    <tr>\n",
       "      <th>1993</th>\n",
       "      <td>58.744902</td>\n",
       "      <td>0.079150</td>\n",
       "      <td>6.396573</td>\n",
       "      <td>12.277506</td>\n",
       "      <td>0.0</td>\n",
       "    </tr>\n",
       "    <tr>\n",
       "      <th>1994</th>\n",
       "      <td>57.725866</td>\n",
       "      <td>0.125950</td>\n",
       "      <td>6.116559</td>\n",
       "      <td>11.662104</td>\n",
       "      <td>0.5</td>\n",
       "    </tr>\n",
       "    <tr>\n",
       "      <th>1995</th>\n",
       "      <td>58.601352</td>\n",
       "      <td>0.073419</td>\n",
       "      <td>5.948315</td>\n",
       "      <td>11.896617</td>\n",
       "      <td>-0.5</td>\n",
       "    </tr>\n",
       "    <tr>\n",
       "      <th>1996</th>\n",
       "      <td>58.462529</td>\n",
       "      <td>0.092580</td>\n",
       "      <td>6.910566</td>\n",
       "      <td>12.611367</td>\n",
       "      <td>0.0</td>\n",
       "    </tr>\n",
       "    <tr>\n",
       "      <th>1997</th>\n",
       "      <td>57.997782</td>\n",
       "      <td>0.204649</td>\n",
       "      <td>6.407863</td>\n",
       "      <td>14.249510</td>\n",
       "      <td>2.0</td>\n",
       "    </tr>\n",
       "    <tr>\n",
       "      <th>1998</th>\n",
       "      <td>56.908685</td>\n",
       "      <td>0.026687</td>\n",
       "      <td>5.724053</td>\n",
       "      <td>12.213550</td>\n",
       "      <td>-1.0</td>\n",
       "    </tr>\n",
       "    <tr>\n",
       "      <th>1999</th>\n",
       "      <td>58.635515</td>\n",
       "      <td>0.048462</td>\n",
       "      <td>5.909317</td>\n",
       "      <td>12.819143</td>\n",
       "      <td>-1.0</td>\n",
       "    </tr>\n",
       "    <tr>\n",
       "      <th>2000</th>\n",
       "      <td>56.199722</td>\n",
       "      <td>0.109002</td>\n",
       "      <td>5.955422</td>\n",
       "      <td>12.546945</td>\n",
       "      <td>-0.5</td>\n",
       "    </tr>\n",
       "    <tr>\n",
       "      <th>2001</th>\n",
       "      <td>57.289343</td>\n",
       "      <td>0.030158</td>\n",
       "      <td>5.766417</td>\n",
       "      <td>12.642915</td>\n",
       "      <td>0.0</td>\n",
       "    </tr>\n",
       "    <tr>\n",
       "      <th>2002</th>\n",
       "      <td>59.716202</td>\n",
       "      <td>0.056728</td>\n",
       "      <td>5.978184</td>\n",
       "      <td>12.838251</td>\n",
       "      <td>1.0</td>\n",
       "    </tr>\n",
       "    <tr>\n",
       "      <th>2003</th>\n",
       "      <td>56.900608</td>\n",
       "      <td>0.052180</td>\n",
       "      <td>5.838880</td>\n",
       "      <td>12.870190</td>\n",
       "      <td>0.0</td>\n",
       "    </tr>\n",
       "    <tr>\n",
       "      <th>2004</th>\n",
       "      <td>57.828537</td>\n",
       "      <td>0.175355</td>\n",
       "      <td>6.163322</td>\n",
       "      <td>12.481452</td>\n",
       "      <td>0.5</td>\n",
       "    </tr>\n",
       "    <tr>\n",
       "      <th>2005</th>\n",
       "      <td>59.500374</td>\n",
       "      <td>0.040619</td>\n",
       "      <td>5.458468</td>\n",
       "      <td>11.943116</td>\n",
       "      <td>0.0</td>\n",
       "    </tr>\n",
       "    <tr>\n",
       "      <th>2006</th>\n",
       "      <td>57.802030</td>\n",
       "      <td>0.018892</td>\n",
       "      <td>5.231016</td>\n",
       "      <td>12.650783</td>\n",
       "      <td>0.5</td>\n",
       "    </tr>\n",
       "    <tr>\n",
       "      <th>2007</th>\n",
       "      <td>57.215473</td>\n",
       "      <td>0.073879</td>\n",
       "      <td>5.488835</td>\n",
       "      <td>12.984518</td>\n",
       "      <td>-1.0</td>\n",
       "    </tr>\n",
       "    <tr>\n",
       "      <th>2008</th>\n",
       "      <td>58.323283</td>\n",
       "      <td>0.072301</td>\n",
       "      <td>4.809708</td>\n",
       "      <td>12.087969</td>\n",
       "      <td>0.0</td>\n",
       "    </tr>\n",
       "    <tr>\n",
       "      <th>2009</th>\n",
       "      <td>58.071544</td>\n",
       "      <td>0.081460</td>\n",
       "      <td>5.155415</td>\n",
       "      <td>12.407114</td>\n",
       "      <td>1.0</td>\n",
       "    </tr>\n",
       "    <tr>\n",
       "      <th>2010</th>\n",
       "      <td>58.141563</td>\n",
       "      <td>0.098906</td>\n",
       "      <td>5.132078</td>\n",
       "      <td>12.250530</td>\n",
       "      <td>-1.0</td>\n",
       "    </tr>\n",
       "    <tr>\n",
       "      <th>2011</th>\n",
       "      <td>57.542684</td>\n",
       "      <td>0.030118</td>\n",
       "      <td>4.631846</td>\n",
       "      <td>11.933547</td>\n",
       "      <td>-0.5</td>\n",
       "    </tr>\n",
       "    <tr>\n",
       "      <th>2012</th>\n",
       "      <td>57.636444</td>\n",
       "      <td>0.045770</td>\n",
       "      <td>5.328986</td>\n",
       "      <td>12.861448</td>\n",
       "      <td>0.0</td>\n",
       "    </tr>\n",
       "    <tr>\n",
       "      <th>2013</th>\n",
       "      <td>60.339772</td>\n",
       "      <td>0.023607</td>\n",
       "      <td>4.599706</td>\n",
       "      <td>11.438358</td>\n",
       "      <td>0.0</td>\n",
       "    </tr>\n",
       "    <tr>\n",
       "      <th>2014</th>\n",
       "      <td>60.616139</td>\n",
       "      <td>0.058680</td>\n",
       "      <td>4.767625</td>\n",
       "      <td>11.483637</td>\n",
       "      <td>0.0</td>\n",
       "    </tr>\n",
       "    <tr>\n",
       "      <th>2015</th>\n",
       "      <td>69.500000</td>\n",
       "      <td>0.000000</td>\n",
       "      <td>4.000000</td>\n",
       "      <td>11.100000</td>\n",
       "      <td>2.0</td>\n",
       "    </tr>\n",
       "  </tbody>\n",
       "</table>\n",
       "</div>"
      ],
      "text/plain": [
       "           TEMP      PRCP      WDSP      MXSPD  index\n",
       "1981  57.935198  0.149135  6.214785  12.867443    0.0\n",
       "1982  57.956720  0.154857  6.829877  13.630960    2.0\n",
       "1983  58.422312  0.047739  6.306589  13.517670   -0.5\n",
       "1984  56.161617  0.083768  6.227346  12.374530   -0.5\n",
       "1985  58.826843  0.111417  6.303456  12.749453    0.0\n",
       "1986  58.653961  0.032070  6.102775  12.064301    1.0\n",
       "1987  57.569042  0.063650  6.540107  12.700383    1.0\n",
       "1988  55.961694  0.063833  6.251375  12.123783   -1.5\n",
       "1989  58.379608  0.039611  5.921745  11.921313    0.0\n",
       "1990  58.715123  0.031383  5.190607  10.285958    0.0\n",
       "1991  59.538016  0.082305  6.339271  12.913952    1.0\n",
       "1992  57.889253  0.169090  6.764566  12.914391    0.0\n",
       "1993  58.744902  0.079150  6.396573  12.277506    0.0\n",
       "1994  57.725866  0.125950  6.116559  11.662104    0.5\n",
       "1995  58.601352  0.073419  5.948315  11.896617   -0.5\n",
       "1996  58.462529  0.092580  6.910566  12.611367    0.0\n",
       "1997  57.997782  0.204649  6.407863  14.249510    2.0\n",
       "1998  56.908685  0.026687  5.724053  12.213550   -1.0\n",
       "1999  58.635515  0.048462  5.909317  12.819143   -1.0\n",
       "2000  56.199722  0.109002  5.955422  12.546945   -0.5\n",
       "2001  57.289343  0.030158  5.766417  12.642915    0.0\n",
       "2002  59.716202  0.056728  5.978184  12.838251    1.0\n",
       "2003  56.900608  0.052180  5.838880  12.870190    0.0\n",
       "2004  57.828537  0.175355  6.163322  12.481452    0.5\n",
       "2005  59.500374  0.040619  5.458468  11.943116    0.0\n",
       "2006  57.802030  0.018892  5.231016  12.650783    0.5\n",
       "2007  57.215473  0.073879  5.488835  12.984518   -1.0\n",
       "2008  58.323283  0.072301  4.809708  12.087969    0.0\n",
       "2009  58.071544  0.081460  5.155415  12.407114    1.0\n",
       "2010  58.141563  0.098906  5.132078  12.250530   -1.0\n",
       "2011  57.542684  0.030118  4.631846  11.933547   -0.5\n",
       "2012  57.636444  0.045770  5.328986  12.861448    0.0\n",
       "2013  60.339772  0.023607  4.599706  11.438358    0.0\n",
       "2014  60.616139  0.058680  4.767625  11.483637    0.0\n",
       "2015  69.500000  0.000000  4.000000  11.100000    2.0"
      ]
     },
     "execution_count": 266,
     "metadata": {},
     "output_type": "execute_result"
    }
   ],
   "source": [
    "haha"
   ]
  },
  {
   "cell_type": "markdown",
   "metadata": {},
   "source": [
    "## Precipitation and El nino (Higher index means stronger el nino)"
   ]
  },
  {
   "cell_type": "code",
   "execution_count": 273,
   "metadata": {
    "collapsed": false
   },
   "outputs": [
    {
     "data": {
      "text/html": [
       "<iframe id=\"igraph\" scrolling=\"no\" style=\"border:none;\"seamless=\"seamless\" src=\"https://plot.ly/~LIBELO6/561.embed\" height=\"525\" width=\"100%\"></iframe>"
      ],
      "text/plain": [
       "<plotly.tools.PlotlyDisplay object>"
      ]
     },
     "execution_count": 273,
     "metadata": {},
     "output_type": "execute_result"
    }
   ],
   "source": [
    "traces = []\n",
    "traces.append(go.Scatter(x=haha['index'], y=haha['PRCP'], text=haha.index, mode='markers', \n",
    "                         marker = dict(color=haha['index'], colorscale='Viridis')))\n",
    "ply.iplot(traces, filename='WeatherData/precipitation')"
   ]
  },
  {
   "cell_type": "markdown",
   "metadata": {},
   "source": [
    "Positive Correlation between precipitation and el nino. (at least in LA)"
   ]
  },
  {
   "cell_type": "markdown",
   "metadata": {},
   "source": [
    "## Temperature and El nino"
   ]
  },
  {
   "cell_type": "code",
   "execution_count": 276,
   "metadata": {
    "collapsed": false
   },
   "outputs": [
    {
     "data": {
      "text/html": [
       "<iframe id=\"igraph\" scrolling=\"no\" style=\"border:none;\"seamless=\"seamless\" src=\"https://plot.ly/~LIBELO6/582.embed\" height=\"525\" width=\"100%\"></iframe>"
      ],
      "text/plain": [
       "<plotly.tools.PlotlyDisplay object>"
      ]
     },
     "execution_count": 276,
     "metadata": {},
     "output_type": "execute_result"
    }
   ],
   "source": [
    "a = la.set_index('YEARMODA')[['TEMP']][:'2014']\n",
    "b = a[a.index.map(lambda x:True if x.month in [11,12,1,2] else False)].resample('M').dropna().shift(-6, 'M')\n",
    "c = b.groupby(b.index.year).apply(lambda x:x.mean())\n",
    "d = pd.concat([c, oci.set_index('From')[['index']]], join='inner', axis=1)\n",
    "traces = []\n",
    "traces.append(go.Scatter(x=d['index'], y=d['TEMP'], text=d.index, mode='markers'))\n",
    "ply.iplot(traces, filename='WeatherData/test6')"
   ]
  },
  {
   "cell_type": "markdown",
   "metadata": {},
   "source": [
    "Less significant correlation"
   ]
  },
  {
   "cell_type": "code",
   "execution_count": 289,
   "metadata": {
    "collapsed": false,
    "scrolled": false
   },
   "outputs": [
    {
     "data": {
      "text/html": [
       "<iframe id=\"igraph\" scrolling=\"no\" style=\"border:none;\"seamless=\"seamless\" src=\"https://plot.ly/~LIBELO6/584.embed\" height=\"525\" width=\"100%\"></iframe>"
      ],
      "text/plain": [
       "<plotly.tools.PlotlyDisplay object>"
      ]
     },
     "execution_count": 289,
     "metadata": {},
     "output_type": "execute_result"
    }
   ],
   "source": [
    "traces = []\n",
    "traces.append(go.Scatter(x=haha['PRCP'], y=haha['TEMP'], text=haha.index, mode='markers', \n",
    "                         marker = dict(color=haha['index'])))\n",
    "ply.iplot(traces, filename='WeatherData/test7')"
   ]
  },
  {
   "cell_type": "markdown",
   "metadata": {},
   "source": [
    "TEMP is not correlated with el nino"
   ]
  },
  {
   "cell_type": "code",
   "execution_count": 290,
   "metadata": {
    "collapsed": false
   },
   "outputs": [
    {
     "data": {
      "text/html": [
       "<iframe id=\"igraph\" scrolling=\"no\" style=\"border:none;\"seamless=\"seamless\" src=\"https://plot.ly/~LIBELO6/588.embed\" height=\"525\" width=\"100%\"></iframe>"
      ],
      "text/plain": [
       "<plotly.tools.PlotlyDisplay object>"
      ]
     },
     "execution_count": 290,
     "metadata": {},
     "output_type": "execute_result"
    }
   ],
   "source": [
    "traces = []\n",
    "traces.append(go.Scatter(x=haha['PRCP'], y=haha['WDSP'], text=haha.index, mode='markers', \n",
    "                         marker = dict(color=haha['index'])))\n",
    "ply.iplot(traces, filename='WeatherData/test8')"
   ]
  },
  {
   "cell_type": "code",
   "execution_count": 291,
   "metadata": {
    "collapsed": false
   },
   "outputs": [
    {
     "data": {
      "text/html": [
       "<iframe id=\"igraph\" scrolling=\"no\" style=\"border:none;\"seamless=\"seamless\" src=\"https://plot.ly/~LIBELO6/588.embed\" height=\"525\" width=\"100%\"></iframe>"
      ],
      "text/plain": [
       "<plotly.tools.PlotlyDisplay object>"
      ]
     },
     "execution_count": 291,
     "metadata": {},
     "output_type": "execute_result"
    }
   ],
   "source": [
    "traces = []\n",
    "traces.append(go.Scatter(x=haha['PRCP'], y=haha['MXSPD'], text=haha.index, mode='markers', \n",
    "                         marker = dict(color=haha['index'])))\n",
    "ply.iplot(traces, filename='WeatherData/test8')"
   ]
  },
  {
   "cell_type": "code",
   "execution_count": 292,
   "metadata": {
    "collapsed": false
   },
   "outputs": [
    {
     "data": {
      "text/html": [
       "<iframe id=\"igraph\" scrolling=\"no\" style=\"border:none;\"seamless=\"seamless\" src=\"https://plot.ly/~LIBELO6/588.embed\" height=\"525\" width=\"100%\"></iframe>"
      ],
      "text/plain": [
       "<plotly.tools.PlotlyDisplay object>"
      ]
     },
     "execution_count": 292,
     "metadata": {},
     "output_type": "execute_result"
    }
   ],
   "source": [
    "traces = []\n",
    "traces.append(go.Scatter(x=haha['WDSP'], y=haha['MXSPD'], text=haha.index, mode='markers', \n",
    "                         marker = dict(color=haha['index'])))\n",
    "ply.iplot(traces, filename='WeatherData/test8')"
   ]
  },
  {
   "cell_type": "markdown",
   "metadata": {},
   "source": [
    "#Select STATION"
   ]
  },
  {
   "cell_type": "code",
   "execution_count": 350,
   "metadata": {
    "collapsed": true
   },
   "outputs": [],
   "source": [
    "useful_variables = ['PRCP', 'WDSP', 'MXSPD', 'TEMP']"
   ]
  },
  {
   "cell_type": "code",
   "execution_count": 351,
   "metadata": {
    "collapsed": false
   },
   "outputs": [],
   "source": [
    "all_indexed = df_subsetted.set_index('YEARMODA')[['STN'] + useful_variables][:'2014']\n",
    "all_months = all_indexed[all_indexed.index.map(lambda x:True if x.month in [11,12,1,2] else False)]"
   ]
  },
  {
   "cell_type": "code",
   "execution_count": 352,
   "metadata": {
    "collapsed": false
   },
   "outputs": [],
   "source": [
    "all_shifted = all_months.shift(-6, 'M')"
   ]
  },
  {
   "cell_type": "code",
   "execution_count": 353,
   "metadata": {
    "collapsed": false
   },
   "outputs": [],
   "source": [
    "mean1997 = all_shifted['1997'].groupby('STN').mean()"
   ]
  },
  {
   "cell_type": "code",
   "execution_count": 354,
   "metadata": {
    "collapsed": true
   },
   "outputs": [],
   "source": [
    "mean2014 = all_shifted['2014'].groupby('STN').mean()"
   ]
  },
  {
   "cell_type": "code",
   "execution_count": 355,
   "metadata": {
    "collapsed": false
   },
   "outputs": [],
   "source": [
    "diff = mean1997 - mean2014\n",
    "diff = diff.dropna()"
   ]
  },
  {
   "cell_type": "code",
   "execution_count": 356,
   "metadata": {
    "collapsed": false
   },
   "outputs": [
    {
     "data": {
      "text/plain": [
       "PRCP       0.250216\n",
       "WDSP      97.030370\n",
       "MXSPD     85.716564\n",
       "TEMP    -223.637501\n",
       "dtype: float64"
      ]
     },
     "execution_count": 356,
     "metadata": {},
     "output_type": "execute_result"
    }
   ],
   "source": [
    "diff.sum()"
   ]
  },
  {
   "cell_type": "code",
   "execution_count": null,
   "metadata": {
    "collapsed": true
   },
   "outputs": [],
   "source": [
    "722950"
   ]
  },
  {
   "cell_type": "code",
   "execution_count": 344,
   "metadata": {
    "collapsed": false
   },
   "outputs": [
    {
     "data": {
      "text/html": [
       "<iframe id=\"igraph\" scrolling=\"no\" style=\"border:none;\"seamless=\"seamless\" src=\"https://plot.ly/~LIBELO6/600.embed\" height=\"525\" width=\"100%\"></iframe>"
      ],
      "text/plain": [
       "<plotly.tools.PlotlyDisplay object>"
      ]
     },
     "execution_count": 344,
     "metadata": {},
     "output_type": "execute_result"
    }
   ],
   "source": [
    "traces = []\n",
    "traces.append(go.Scatter(y=diff['PRCP'], text=diff.index, mode='markers', ))\n",
    "#                          marker = dict(color=haha['index'])))\n",
    "ply.iplot(traces, filename='WeatherData/diff1')"
   ]
  },
  {
   "cell_type": "code",
   "execution_count": 348,
   "metadata": {
    "collapsed": false
   },
   "outputs": [
    {
     "data": {
      "text/html": [
       "<iframe id=\"igraph\" scrolling=\"no\" style=\"border:none;\"seamless=\"seamless\" src=\"https://plot.ly/~LIBELO6/602.embed\" height=\"525\" width=\"100%\"></iframe>"
      ],
      "text/plain": [
       "<plotly.tools.PlotlyDisplay object>"
      ]
     },
     "execution_count": 348,
     "metadata": {},
     "output_type": "execute_result"
    }
   ],
   "source": [
    "traces = []\n",
    "traces.append(go.Scatter(y=diff['WDSP'], text=diff.index, mode='markers', ))\n",
    "#                          marker = dict(color=haha['index'])))\n",
    "ply.iplot(traces, filename='WeatherData/diff2')"
   ]
  },
  {
   "cell_type": "code",
   "execution_count": 349,
   "metadata": {
    "collapsed": false
   },
   "outputs": [
    {
     "data": {
      "text/html": [
       "<iframe id=\"igraph\" scrolling=\"no\" style=\"border:none;\"seamless=\"seamless\" src=\"https://plot.ly/~LIBELO6/604.embed\" height=\"525\" width=\"100%\"></iframe>"
      ],
      "text/plain": [
       "<plotly.tools.PlotlyDisplay object>"
      ]
     },
     "execution_count": 349,
     "metadata": {},
     "output_type": "execute_result"
    }
   ],
   "source": [
    "traces = []\n",
    "traces.append(go.Scatter(y=diff['MXSPD'], text=diff.index, mode='markers', ))\n",
    "#                          marker = dict(color=haha['index'])))\n",
    "ply.iplot(traces, filename='WeatherData/diff3')"
   ]
  },
  {
   "cell_type": "code",
   "execution_count": 357,
   "metadata": {
    "collapsed": false
   },
   "outputs": [
    {
     "data": {
      "text/html": [
       "<iframe id=\"igraph\" scrolling=\"no\" style=\"border:none;\"seamless=\"seamless\" src=\"https://plot.ly/~LIBELO6/606.embed\" height=\"525\" width=\"100%\"></iframe>"
      ],
      "text/plain": [
       "<plotly.tools.PlotlyDisplay object>"
      ]
     },
     "execution_count": 357,
     "metadata": {},
     "output_type": "execute_result"
    }
   ],
   "source": [
    "traces = []\n",
    "traces.append(go.Scatter(y=diff['TEMP'], text=diff.index, mode='markers', ))\n",
    "#                          marker = dict(color=haha['index'])))\n",
    "ply.iplot(traces, filename='WeatherData/diff5')"
   ]
  },
  {
   "cell_type": "code",
   "execution_count": 307,
   "metadata": {
    "collapsed": false
   },
   "outputs": [
    {
     "data": {
      "text/html": [
       "<iframe id=\"igraph\" scrolling=\"no\" style=\"border:none;\"seamless=\"seamless\" src=\"https://plot.ly/~LIBELO6/598.embed\" height=\"525\" width=\"100%\"></iframe>"
      ],
      "text/plain": [
       "<plotly.tools.PlotlyDisplay object>"
      ]
     },
     "execution_count": 307,
     "metadata": {},
     "output_type": "execute_result"
    }
   ],
   "source": [
    "all_years = all_shifted.groupby(all_shifted.index.year).apply(lambda x:x.mean()) # average over stations\n",
    "hehe = pd.concat([all_years, oci.set_index('From')[['index']]], join='inner', axis=1)\n",
    "traces = []\n",
    "traces.append(go.Scatter(x=hehe['PRCP'], y=hehe['MXSPD'], text=hehe.index, mode='markers', \n",
    "                         marker = dict(color=hehe['index'])))\n",
    "ply.iplot(traces, filename='WeatherData/hehe')"
   ]
  },
  {
   "cell_type": "code",
   "execution_count": null,
   "metadata": {
    "collapsed": true
   },
   "outputs": [],
   "source": []
  }
 ],
 "metadata": {
  "kernelspec": {
   "display_name": "Python 3",
   "language": "python",
   "name": "python3"
  },
  "language_info": {
   "codemirror_mode": {
    "name": "ipython",
    "version": 3
   },
   "file_extension": ".py",
   "mimetype": "text/x-python",
   "name": "python",
   "nbconvert_exporter": "python",
   "pygments_lexer": "ipython3",
   "version": "3.4.3"
  }
 },
 "nbformat": 4,
 "nbformat_minor": 0
}
