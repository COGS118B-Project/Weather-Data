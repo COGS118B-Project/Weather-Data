{
 "cells": [
  {
   "cell_type": "code",
   "execution_count": 2,
   "metadata": {
    "collapsed": false
   },
   "outputs": [],
   "source": [
    "import pandas as pd"
   ]
  },
  {
   "cell_type": "code",
   "execution_count": 24,
   "metadata": {
    "collapsed": false
   },
   "outputs": [
    {
     "data": {
      "text/html": [
       "<div>\n",
       "<table border=\"1\" class=\"dataframe\">\n",
       "  <thead>\n",
       "    <tr style=\"text-align: right;\">\n",
       "      <th></th>\n",
       "      <th>STN</th>\n",
       "      <th>WBAN</th>\n",
       "      <th>YEARMODA</th>\n",
       "      <th>TEMP</th>\n",
       "      <th>TEMP_count</th>\n",
       "      <th>DEWP</th>\n",
       "      <th>DEWP_count</th>\n",
       "      <th>SLP</th>\n",
       "      <th>SLP_count</th>\n",
       "      <th>STP</th>\n",
       "      <th>...</th>\n",
       "      <th>FRSHTT</th>\n",
       "      <th>MAX_flag</th>\n",
       "      <th>MIN_flag</th>\n",
       "      <th>PRCP_A</th>\n",
       "      <th>PRCP_B</th>\n",
       "      <th>PRCP_C</th>\n",
       "      <th>PRCP_D</th>\n",
       "      <th>PRCP_G</th>\n",
       "      <th>PRCP_H</th>\n",
       "      <th>PRCP_I</th>\n",
       "    </tr>\n",
       "  </thead>\n",
       "  <tbody>\n",
       "    <tr>\n",
       "      <th>0</th>\n",
       "      <td>722900</td>\n",
       "      <td>23188</td>\n",
       "      <td>1980-11-01</td>\n",
       "      <td>70.5</td>\n",
       "      <td>24</td>\n",
       "      <td>39.5</td>\n",
       "      <td>24</td>\n",
       "      <td>1018.9</td>\n",
       "      <td>24</td>\n",
       "      <td>1017.9</td>\n",
       "      <td>...</td>\n",
       "      <td>0</td>\n",
       "      <td>False</td>\n",
       "      <td>False</td>\n",
       "      <td>0</td>\n",
       "      <td>0</td>\n",
       "      <td>0</td>\n",
       "      <td>1</td>\n",
       "      <td>0</td>\n",
       "      <td>0</td>\n",
       "      <td>0</td>\n",
       "    </tr>\n",
       "    <tr>\n",
       "      <th>1</th>\n",
       "      <td>722900</td>\n",
       "      <td>23188</td>\n",
       "      <td>1980-11-02</td>\n",
       "      <td>68.0</td>\n",
       "      <td>23</td>\n",
       "      <td>40.7</td>\n",
       "      <td>23</td>\n",
       "      <td>1019.2</td>\n",
       "      <td>23</td>\n",
       "      <td>1018.1</td>\n",
       "      <td>...</td>\n",
       "      <td>0</td>\n",
       "      <td>False</td>\n",
       "      <td>False</td>\n",
       "      <td>0</td>\n",
       "      <td>0</td>\n",
       "      <td>0</td>\n",
       "      <td>1</td>\n",
       "      <td>0</td>\n",
       "      <td>0</td>\n",
       "      <td>0</td>\n",
       "    </tr>\n",
       "    <tr>\n",
       "      <th>2</th>\n",
       "      <td>722900</td>\n",
       "      <td>23188</td>\n",
       "      <td>1980-11-03</td>\n",
       "      <td>67.1</td>\n",
       "      <td>24</td>\n",
       "      <td>47.1</td>\n",
       "      <td>24</td>\n",
       "      <td>1019.3</td>\n",
       "      <td>24</td>\n",
       "      <td>1018.2</td>\n",
       "      <td>...</td>\n",
       "      <td>0</td>\n",
       "      <td>False</td>\n",
       "      <td>False</td>\n",
       "      <td>0</td>\n",
       "      <td>0</td>\n",
       "      <td>0</td>\n",
       "      <td>1</td>\n",
       "      <td>0</td>\n",
       "      <td>0</td>\n",
       "      <td>0</td>\n",
       "    </tr>\n",
       "    <tr>\n",
       "      <th>3</th>\n",
       "      <td>722900</td>\n",
       "      <td>23188</td>\n",
       "      <td>1980-11-04</td>\n",
       "      <td>64.2</td>\n",
       "      <td>24</td>\n",
       "      <td>56.0</td>\n",
       "      <td>24</td>\n",
       "      <td>1018.8</td>\n",
       "      <td>24</td>\n",
       "      <td>1017.8</td>\n",
       "      <td>...</td>\n",
       "      <td>100000</td>\n",
       "      <td>False</td>\n",
       "      <td>False</td>\n",
       "      <td>0</td>\n",
       "      <td>0</td>\n",
       "      <td>0</td>\n",
       "      <td>1</td>\n",
       "      <td>0</td>\n",
       "      <td>0</td>\n",
       "      <td>0</td>\n",
       "    </tr>\n",
       "    <tr>\n",
       "      <th>4</th>\n",
       "      <td>722900</td>\n",
       "      <td>23188</td>\n",
       "      <td>1980-11-05</td>\n",
       "      <td>64.4</td>\n",
       "      <td>24</td>\n",
       "      <td>58.9</td>\n",
       "      <td>24</td>\n",
       "      <td>1018.0</td>\n",
       "      <td>24</td>\n",
       "      <td>1016.6</td>\n",
       "      <td>...</td>\n",
       "      <td>100000</td>\n",
       "      <td>False</td>\n",
       "      <td>False</td>\n",
       "      <td>0</td>\n",
       "      <td>0</td>\n",
       "      <td>0</td>\n",
       "      <td>1</td>\n",
       "      <td>0</td>\n",
       "      <td>0</td>\n",
       "      <td>0</td>\n",
       "    </tr>\n",
       "  </tbody>\n",
       "</table>\n",
       "<p>5 rows × 31 columns</p>\n",
       "</div>"
      ],
      "text/plain": [
       "      STN   WBAN   YEARMODA  TEMP  TEMP_count  DEWP  DEWP_count     SLP  \\\n",
       "0  722900  23188 1980-11-01  70.5          24  39.5          24  1018.9   \n",
       "1  722900  23188 1980-11-02  68.0          23  40.7          23  1019.2   \n",
       "2  722900  23188 1980-11-03  67.1          24  47.1          24  1019.3   \n",
       "3  722900  23188 1980-11-04  64.2          24  56.0          24  1018.8   \n",
       "4  722900  23188 1980-11-05  64.4          24  58.9          24  1018.0   \n",
       "\n",
       "   SLP_count     STP   ...    FRSHTT  MAX_flag  MIN_flag  PRCP_A  PRCP_B  \\\n",
       "0         24  1017.9   ...         0     False     False       0       0   \n",
       "1         23  1018.1   ...         0     False     False       0       0   \n",
       "2         24  1018.2   ...         0     False     False       0       0   \n",
       "3         24  1017.8   ...    100000     False     False       0       0   \n",
       "4         24  1016.6   ...    100000     False     False       0       0   \n",
       "\n",
       "   PRCP_C  PRCP_D  PRCP_G  PRCP_H  PRCP_I  \n",
       "0       0       1       0       0       0  \n",
       "1       0       1       0       0       0  \n",
       "2       0       1       0       0       0  \n",
       "3       0       1       0       0       0  \n",
       "4       0       1       0       0       0  \n",
       "\n",
       "[5 rows x 31 columns]"
      ]
     },
     "execution_count": 24,
     "metadata": {},
     "output_type": "execute_result"
    }
   ],
   "source": [
    "data = pd.read_csv('../data/preprocessed/SanDiego_from_1980_preprocessed.csv', parse_dates=['YEARMODA'])\n",
    "data.head()"
   ]
  },
  {
   "cell_type": "code",
   "execution_count": 26,
   "metadata": {
    "collapsed": false,
    "scrolled": true
   },
   "outputs": [
    {
     "data": {
      "text/plain": [
       "Index(['STN', 'WBAN', 'YEARMODA', 'TEMP', 'TEMP_count', 'DEWP', 'DEWP_count',\n",
       "       'SLP', 'SLP_count', 'STP', 'STP_count', 'VISIB', 'VISIB_count', 'WDSP',\n",
       "       'WDSP_count', 'MXSPD', 'GUST', 'MAX', 'MIN', 'PRCP', 'SNDP', 'FRSHTT',\n",
       "       'MAX_flag', 'MIN_flag', 'PRCP_A', 'PRCP_B', 'PRCP_C', 'PRCP_D',\n",
       "       'PRCP_G', 'PRCP_H', 'PRCP_I'],\n",
       "      dtype='object')"
      ]
     },
     "execution_count": 26,
     "metadata": {},
     "output_type": "execute_result"
    }
   ],
   "source": [
    "data.columns"
   ]
  },
  {
   "cell_type": "code",
   "execution_count": 29,
   "metadata": {
    "collapsed": false
   },
   "outputs": [],
   "source": [
    "subset = data.set_index('YEARMODA')\n",
    "subset = subset[['STN', 'TEMP', 'MAX', 'MIN']]\n",
    "subset = subset.dropna()"
   ]
  },
  {
   "cell_type": "code",
   "execution_count": 43,
   "metadata": {
    "collapsed": false
   },
   "outputs": [
    {
     "data": {
      "text/html": [
       "<div>\n",
       "<table border=\"1\" class=\"dataframe\">\n",
       "  <thead>\n",
       "    <tr style=\"text-align: right;\">\n",
       "      <th></th>\n",
       "      <th>STN</th>\n",
       "      <th>TEMP</th>\n",
       "      <th>MAX</th>\n",
       "      <th>MIN</th>\n",
       "    </tr>\n",
       "    <tr>\n",
       "      <th>YEARMODA</th>\n",
       "      <th></th>\n",
       "      <th></th>\n",
       "      <th></th>\n",
       "      <th></th>\n",
       "    </tr>\n",
       "  </thead>\n",
       "  <tbody>\n",
       "    <tr>\n",
       "      <th>1980-11-01</th>\n",
       "      <td>722900</td>\n",
       "      <td>70.5</td>\n",
       "      <td>88.0</td>\n",
       "      <td>57.9</td>\n",
       "    </tr>\n",
       "    <tr>\n",
       "      <th>1980-11-02</th>\n",
       "      <td>722900</td>\n",
       "      <td>68.0</td>\n",
       "      <td>84.9</td>\n",
       "      <td>55.9</td>\n",
       "    </tr>\n",
       "    <tr>\n",
       "      <th>1980-11-03</th>\n",
       "      <td>722900</td>\n",
       "      <td>67.1</td>\n",
       "      <td>79.9</td>\n",
       "      <td>55.9</td>\n",
       "    </tr>\n",
       "    <tr>\n",
       "      <th>1980-11-04</th>\n",
       "      <td>722900</td>\n",
       "      <td>64.2</td>\n",
       "      <td>77.0</td>\n",
       "      <td>54.9</td>\n",
       "    </tr>\n",
       "    <tr>\n",
       "      <th>1980-11-05</th>\n",
       "      <td>722900</td>\n",
       "      <td>64.4</td>\n",
       "      <td>72.0</td>\n",
       "      <td>59.9</td>\n",
       "    </tr>\n",
       "  </tbody>\n",
       "</table>\n",
       "</div>"
      ],
      "text/plain": [
       "               STN  TEMP   MAX   MIN\n",
       "YEARMODA                            \n",
       "1980-11-01  722900  70.5  88.0  57.9\n",
       "1980-11-02  722900  68.0  84.9  55.9\n",
       "1980-11-03  722900  67.1  79.9  55.9\n",
       "1980-11-04  722900  64.2  77.0  54.9\n",
       "1980-11-05  722900  64.4  72.0  59.9"
      ]
     },
     "execution_count": 43,
     "metadata": {},
     "output_type": "execute_result"
    }
   ],
   "source": [
    "sd_airport = subset[subset['STN'] == 722900] # SAN DIEGO INTERNATIONAL AIRPO\n",
    "sd_airport.head()"
   ]
  },
  {
   "cell_type": "code",
   "execution_count": 40,
   "metadata": {
    "collapsed": true
   },
   "outputs": [],
   "source": [
    "from plotly import plotly as ply\n",
    "from plotly import graph_objs as go"
   ]
  },
  {
   "cell_type": "code",
   "execution_count": 47,
   "metadata": {
    "collapsed": false
   },
   "outputs": [],
   "source": [
    "sd_airport_oneday = sd_airport[(sd_airport.index.month == 12) & (sd_airport.index.day == 2)]\n",
    "sd_airport_2014 = sd_airport['2014']"
   ]
  },
  {
   "cell_type": "code",
   "execution_count": 51,
   "metadata": {
    "collapsed": false
   },
   "outputs": [
    {
     "data": {
      "text/html": [
       "<iframe id=\"igraph\" scrolling=\"no\" style=\"border:none;\"seamless=\"seamless\" src=\"https://plot.ly/~LIBELO6/539.embed\" height=\"525\" width=\"100%\"></iframe>"
      ],
      "text/plain": [
       "<plotly.tools.PlotlyDisplay object>"
      ]
     },
     "execution_count": 51,
     "metadata": {},
     "output_type": "execute_result"
    }
   ],
   "source": [
    "trace = go.Scatter(\n",
    "    x=sd_airport_2014.index,\n",
    "    y=sd_airport_2014['TEMP'],\n",
    ")\n",
    "layout = go.Layout(\n",
    "    title=\"San Diego Weather 2014\"\n",
    ")\n",
    "figure = go.Figure(data=[trace], layout=layout)\n",
    "ply.iplot(figure, filename='WeatherData/sandiego')"
   ]
  },
  {
   "cell_type": "code",
   "execution_count": 56,
   "metadata": {
    "collapsed": false
   },
   "outputs": [
    {
     "data": {
      "text/html": [
       "<iframe id=\"igraph\" scrolling=\"no\" style=\"border:none;\"seamless=\"seamless\" src=\"https://plot.ly/~LIBELO6/539.embed\" height=\"525\" width=\"100%\"></iframe>"
      ],
      "text/plain": [
       "<plotly.tools.PlotlyDisplay object>"
      ]
     },
     "execution_count": 56,
     "metadata": {},
     "output_type": "execute_result"
    }
   ],
   "source": [
    "trace0 = go.Scatter(\n",
    "    x=sd_airport_2014.index,\n",
    "    y=sd_airport_2014['TEMP'],\n",
    "    name='Mean'\n",
    ")\n",
    "trace1 = go.Scatter(\n",
    "    x=sd_airport_2014.index,\n",
    "    y=sd_airport_2014['MAX'],\n",
    "    name='Max'\n",
    ")\n",
    "trace2 = go.Scatter(\n",
    "    x=sd_airport_2014.index,\n",
    "    y=sd_airport_2014['MIN'],\n",
    "    name='Min'\n",
    ")\n",
    "layout = go.Layout(\n",
    "    title=\"San Diego Weather 2014 Min & Max\"\n",
    ")\n",
    "figure = go.Figure(data=[trace1, trace0, trace2], layout=layout)\n",
    "ply.iplot(figure, filename='WeatherData/sandiego')"
   ]
  },
  {
   "cell_type": "code",
   "execution_count": 52,
   "metadata": {
    "collapsed": true
   },
   "outputs": [],
   "source": [
    "ply.image.save_as(figure, 'San Diego Weather 2014.png')"
   ]
  },
  {
   "cell_type": "code",
   "execution_count": null,
   "metadata": {
    "collapsed": true
   },
   "outputs": [],
   "source": []
  }
 ],
 "metadata": {
  "kernelspec": {
   "display_name": "Python 3",
   "language": "python",
   "name": "python3"
  },
  "language_info": {
   "codemirror_mode": {
    "name": "ipython",
    "version": 3
   },
   "file_extension": ".py",
   "mimetype": "text/x-python",
   "name": "python",
   "nbconvert_exporter": "python",
   "pygments_lexer": "ipython3",
   "version": "3.4.3"
  }
 },
 "nbformat": 4,
 "nbformat_minor": 0
}
